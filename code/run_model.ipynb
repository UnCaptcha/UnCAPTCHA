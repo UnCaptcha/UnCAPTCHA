{
 "cells": [
  {
   "cell_type": "code",
   "execution_count": 1,
   "metadata": {},
   "outputs": [
    {
     "name": "stderr",
     "output_type": "stream",
     "text": [
      "2023-05-02 18:18:20.909199: I tensorflow/core/platform/cpu_feature_guard.cc:193] This TensorFlow binary is optimized with oneAPI Deep Neural Network Library (oneDNN) to use the following CPU instructions in performance-critical operations:  SSE4.1 SSE4.2\n",
      "To enable them in other operations, rebuild TensorFlow with the appropriate compiler flags.\n"
     ]
    }
   ],
   "source": [
    "from __future__ import absolute_import\n",
    "from matplotlib import pyplot as plt\n",
    "\n",
    "import os\n",
    "import tensorflow as tf\n",
    "import numpy as np\n",
    "import random\n",
    "import math\n",
    "from preprocess import get_data\n",
    "from sklearn import preprocessing\n",
    "from main import *"
   ]
  },
  {
   "cell_type": "code",
   "execution_count": 4,
   "metadata": {},
   "outputs": [],
   "source": [
    "#Get data and reshape\n",
    "\n",
    "#Import and reshape\n",
    "X_train, X_test, X_val, Y_train, Y_test, Y_val = get_data(.3, \"./../barcoded_data/\")\n",
    "\n",
    "char_encoder = preprocessing.LabelEncoder().fit(np.concatenate((Y_train.reshape(-1), Y_test.reshape(-1), Y_val.reshape(-1))))\n",
    "orig_shapes = [Y_train.shape[0], Y_test.shape[0], Y_val.shape[0]]\n",
    "Y_train = char_encoder.transform(Y_train.reshape(-1)).reshape((orig_shapes[0], 4))\n",
    "Y_test = char_encoder.transform(Y_test.reshape(-1)).reshape((orig_shapes[1], 4))\n",
    "Y_val = char_encoder.transform(Y_val.reshape(-1)).reshape((orig_shapes[2], 4))\n",
    "\n",
    "#Convert input to properly shaped and typed tensors\n",
    "X_train = tf.convert_to_tensor(np.asarray(np.reshape(X_train, (-1, *X_train.shape[-2:]))).astype(np.float32))\n",
    "X_val   = tf.convert_to_tensor(np.asarray(np.reshape(X_val  , (-1, *X_val.shape[-2:]))).astype(np.float32))\n",
    "Y_train = tf.convert_to_tensor(np.asarray(np.reshape(Y_train, (-1))))\n",
    "Y_val   = tf.convert_to_tensor(np.asarray(np.reshape(Y_val  , (-1))))\n",
    "\n",
    "#Don't reshape test, because we need to preserve CAPTCHAs but convert to tensor\n",
    "X_test  = tf.convert_to_tensor(np.asarray(X_test).astype(np.float32))\n",
    "Y_test  = tf.convert_to_tensor(np.asarray(Y_test))\n",
    "\n",
    "#Expand Dims\n",
    "X_train = tf.expand_dims(X_train, axis=-1)\n",
    "X_val   = tf.expand_dims(X_val  , axis=-1)\n",
    "\n",
    "#One hot encode\n",
    "Y_val   = tf.one_hot(Y_val  , depth=31, axis=-1)\n",
    "Y_train = tf.one_hot(Y_train, depth=31, axis=-1)"
   ]
  },
  {
   "cell_type": "code",
   "execution_count": 7,
   "metadata": {},
   "outputs": [
    {
     "name": "stdout",
     "output_type": "stream",
     "text": [
      "Epoch 1/3\n",
      "109/109 [==============================] - 42s 370ms/step - loss: 3.4700 - categorical_crossentropy: 3.4700 - val_loss: 3.4020 - val_categorical_crossentropy: 3.4020\n",
      "Epoch 2/3\n",
      "109/109 [==============================] - 44s 403ms/step - loss: 2.9834 - categorical_crossentropy: 2.9834 - val_loss: 3.1430 - val_categorical_crossentropy: 3.1430\n",
      "Epoch 3/3\n",
      "109/109 [==============================] - 48s 442ms/step - loss: 2.6818 - categorical_crossentropy: 2.6818 - val_loss: 2.7110 - val_categorical_crossentropy: 2.7110\n"
     ]
    },
    {
     "name": "stderr",
     "output_type": "stream",
     "text": [
      "WARNING:absl:Found untraced functions such as _update_step_xla, _jit_compiled_convolution_op, _jit_compiled_convolution_op, _jit_compiled_convolution_op while saving (showing 4 of 4). These functions will not be directly callable after loading.\n"
     ]
    },
    {
     "name": "stdout",
     "output_type": "stream",
     "text": [
      "INFO:tensorflow:Assets written to: ./../models/barcoded_1/assets\n"
     ]
    },
    {
     "name": "stderr",
     "output_type": "stream",
     "text": [
      "INFO:tensorflow:Assets written to: ./../models/barcoded_1/assets\n"
     ]
    }
   ],
   "source": [
    "#Fit and save model\n",
    "model = Model()\n",
    "model.compile(loss='categorical_crossentropy',\n",
    "                optimizer=tf.keras.optimizers.Adam(.0001),\n",
    "                metrics= [\n",
    "                tf.keras.metrics.Accuracy()\n",
    "                ])\n",
    "model.fit(\n",
    "    X_train,\n",
    "    Y_train,\n",
    "    epochs=3,\n",
    "    batch_size=256,\n",
    "    validation_data=(X_val, Y_val)\n",
    ")\n",
    "\n",
    "model.save('./../models/barcoded_1')"
   ]
  },
  {
   "cell_type": "code",
   "execution_count": 10,
   "metadata": {},
   "outputs": [
    {
     "name": "stdout",
     "output_type": "stream",
     "text": [
      "<keras.engine.training.Model object at 0x1b7893a30>\n"
     ]
    },
    {
     "ename": "NotImplementedError",
     "evalue": "in user code:\n\n    File \"/Users/mahlonpage/opt/anaconda3/envs/csci1470/lib/python3.10/site-packages/keras/engine/training.py\", line 2137, in predict_function  *\n        return step_function(self, iterator)\n    File \"/Users/mahlonpage/opt/anaconda3/envs/csci1470/lib/python3.10/site-packages/keras/engine/training.py\", line 2123, in step_function  **\n        outputs = model.distribute_strategy.run(run_step, args=(data,))\n    File \"/Users/mahlonpage/opt/anaconda3/envs/csci1470/lib/python3.10/site-packages/keras/engine/training.py\", line 2111, in run_step  **\n        outputs = model.predict_step(data)\n    File \"/Users/mahlonpage/opt/anaconda3/envs/csci1470/lib/python3.10/site-packages/keras/engine/training.py\", line 2079, in predict_step\n        return self(x, training=False)\n    File \"/Users/mahlonpage/opt/anaconda3/envs/csci1470/lib/python3.10/site-packages/keras/utils/traceback_utils.py\", line 70, in error_handler\n        raise e.with_traceback(filtered_tb) from None\n    File \"/Users/mahlonpage/opt/anaconda3/envs/csci1470/lib/python3.10/site-packages/keras/engine/training.py\", line 588, in call\n        raise NotImplementedError(\n\n    NotImplementedError: Exception encountered when calling layer 'model' (type Model).\n    \n    Unimplemented `tf.keras.Model.call()`: if you intend to create a `Model` with the Functional API, please provide `inputs` and `outputs` arguments. Otherwise, subclass `Model` with an overridden `call()` method.\n    \n    Call arguments received by layer 'model' (type Model):\n      • inputs=tf.Tensor(shape=(None, 24, 76), dtype=float32)\n      • training=False\n      • mask=None\n",
     "output_type": "error",
     "traceback": [
      "\u001b[0;31m---------------------------------------------------------------------------\u001b[0m",
      "\u001b[0;31mNotImplementedError\u001b[0m                       Traceback (most recent call last)",
      "Cell \u001b[0;32mIn[10], line 18\u001b[0m\n\u001b[1;32m     13\u001b[0m     captcha_acc \u001b[39m=\u001b[39m np\u001b[39m.\u001b[39mapply_along_axis((\u001b[39mlambda\u001b[39;00m x: \u001b[39m1\u001b[39m \u001b[39mif\u001b[39;00m np\u001b[39m.\u001b[39mall(x \u001b[39m==\u001b[39m \u001b[39m0\u001b[39m) \u001b[39melse\u001b[39;00m \u001b[39m0\u001b[39m), axis\u001b[39m=\u001b[39m\u001b[39m1\u001b[39m, arr\u001b[39m=\u001b[39mcaptcha_acc)\n\u001b[1;32m     15\u001b[0m     \u001b[39mreturn\u001b[39;00m np\u001b[39m.\u001b[39mmean(char_acc), np\u001b[39m.\u001b[39mmean(captcha_acc)\n\u001b[0;32m---> 18\u001b[0m output \u001b[39m=\u001b[39m model\u001b[39m.\u001b[39;49mpredict(X_test[\u001b[39m7\u001b[39;49m], verbose\u001b[39m=\u001b[39;49m\u001b[39m0\u001b[39;49m)\n\u001b[1;32m     20\u001b[0m \u001b[39mprint\u001b[39m(\u001b[39m\"\u001b[39m\u001b[39mSecret CAPTCHA:\u001b[39m\u001b[39m\"\u001b[39m)\n\u001b[1;32m     21\u001b[0m \u001b[39mprint\u001b[39m(char_encoder\u001b[39m.\u001b[39minverse_transform(Y_test[\u001b[39m7\u001b[39m]))\n",
      "File \u001b[0;32m~/opt/anaconda3/envs/csci1470/lib/python3.10/site-packages/keras/utils/traceback_utils.py:70\u001b[0m, in \u001b[0;36mfilter_traceback.<locals>.error_handler\u001b[0;34m(*args, **kwargs)\u001b[0m\n\u001b[1;32m     67\u001b[0m     filtered_tb \u001b[39m=\u001b[39m _process_traceback_frames(e\u001b[39m.\u001b[39m__traceback__)\n\u001b[1;32m     68\u001b[0m     \u001b[39m# To get the full stack trace, call:\u001b[39;00m\n\u001b[1;32m     69\u001b[0m     \u001b[39m# `tf.debugging.disable_traceback_filtering()`\u001b[39;00m\n\u001b[0;32m---> 70\u001b[0m     \u001b[39mraise\u001b[39;00m e\u001b[39m.\u001b[39mwith_traceback(filtered_tb) \u001b[39mfrom\u001b[39;00m \u001b[39mNone\u001b[39m\n\u001b[1;32m     71\u001b[0m \u001b[39mfinally\u001b[39;00m:\n\u001b[1;32m     72\u001b[0m     \u001b[39mdel\u001b[39;00m filtered_tb\n",
      "File \u001b[0;32m/var/folders/0x/2kts5pgd6cs9gk2hysn_90br0000gn/T/__autograph_generated_file26thpnbq.py:15\u001b[0m, in \u001b[0;36mouter_factory.<locals>.inner_factory.<locals>.tf__predict_function\u001b[0;34m(iterator)\u001b[0m\n\u001b[1;32m     13\u001b[0m \u001b[39mtry\u001b[39;00m:\n\u001b[1;32m     14\u001b[0m     do_return \u001b[39m=\u001b[39m \u001b[39mTrue\u001b[39;00m\n\u001b[0;32m---> 15\u001b[0m     retval_ \u001b[39m=\u001b[39m ag__\u001b[39m.\u001b[39mconverted_call(ag__\u001b[39m.\u001b[39mld(step_function), (ag__\u001b[39m.\u001b[39mld(\u001b[39mself\u001b[39m), ag__\u001b[39m.\u001b[39mld(iterator)), \u001b[39mNone\u001b[39;00m, fscope)\n\u001b[1;32m     16\u001b[0m \u001b[39mexcept\u001b[39;00m:\n\u001b[1;32m     17\u001b[0m     do_return \u001b[39m=\u001b[39m \u001b[39mFalse\u001b[39;00m\n",
      "\u001b[0;31mNotImplementedError\u001b[0m: in user code:\n\n    File \"/Users/mahlonpage/opt/anaconda3/envs/csci1470/lib/python3.10/site-packages/keras/engine/training.py\", line 2137, in predict_function  *\n        return step_function(self, iterator)\n    File \"/Users/mahlonpage/opt/anaconda3/envs/csci1470/lib/python3.10/site-packages/keras/engine/training.py\", line 2123, in step_function  **\n        outputs = model.distribute_strategy.run(run_step, args=(data,))\n    File \"/Users/mahlonpage/opt/anaconda3/envs/csci1470/lib/python3.10/site-packages/keras/engine/training.py\", line 2111, in run_step  **\n        outputs = model.predict_step(data)\n    File \"/Users/mahlonpage/opt/anaconda3/envs/csci1470/lib/python3.10/site-packages/keras/engine/training.py\", line 2079, in predict_step\n        return self(x, training=False)\n    File \"/Users/mahlonpage/opt/anaconda3/envs/csci1470/lib/python3.10/site-packages/keras/utils/traceback_utils.py\", line 70, in error_handler\n        raise e.with_traceback(filtered_tb) from None\n    File \"/Users/mahlonpage/opt/anaconda3/envs/csci1470/lib/python3.10/site-packages/keras/engine/training.py\", line 588, in call\n        raise NotImplementedError(\n\n    NotImplementedError: Exception encountered when calling layer 'model' (type Model).\n    \n    Unimplemented `tf.keras.Model.call()`: if you intend to create a `Model` with the Functional API, please provide `inputs` and `outputs` arguments. Otherwise, subclass `Model` with an overridden `call()` method.\n    \n    Call arguments received by layer 'model' (type Model):\n      • inputs=tf.Tensor(shape=(None, 24, 76), dtype=float32)\n      • training=False\n      • mask=None\n"
     ]
    }
   ],
   "source": [
    "#Load a model and run tests to get accuracy and print an example\n",
    "model = tf.keras.models.load_model(\"./../models/segmented\")\n",
    "#TODO: I don't know how to properly load and save models, it's not working\n",
    "\n",
    "def get_acc(X_test, Y_test):\n",
    "    X_test    = np.reshape(X_test, (-1, *X_test.shape[-2:]))\n",
    "    Y_test    = np.reshape(Y_test, (-1))\n",
    "    \n",
    "    probs     = model.predict(X_test, verbose=0)\n",
    "    diff      = np.argmax(probs, axis=1) - Y_test\n",
    "    char_acc  = np.where(diff == 0, 1, 0)\n",
    "\n",
    "    captcha_acc = np.array_split(diff, diff.shape[0]//4)\n",
    "    captcha_acc = np.apply_along_axis((lambda x: 1 if np.all(x == 0) else 0), axis=1, arr=captcha_acc)\n",
    "\n",
    "    return np.mean(char_acc), np.mean(captcha_acc)\n",
    "    \n",
    "\n",
    "output = model.predict(X_test[7], verbose=0)\n",
    "\n",
    "print(\"Secret CAPTCHA:\")\n",
    "print(char_encoder.inverse_transform(Y_test[7]))\n",
    "\n",
    "print(\"Model guess:\")\n",
    "print(char_encoder.inverse_transform(np.argmax(output, axis=1)))\n",
    "\n",
    "char_acc, captcha_acc = get_acc(X_test, Y_test)\n",
    "print(f\"Character accuracy: {round(100*char_acc, 2)}% \\nCaptcha accuracy: {round(100*captcha_acc, 2)}%\")\n"
   ]
  }
 ],
 "metadata": {
  "kernelspec": {
   "display_name": "Python 3",
   "language": "python",
   "name": "python3"
  },
  "language_info": {
   "codemirror_mode": {
    "name": "ipython",
    "version": 3
   },
   "file_extension": ".py",
   "mimetype": "text/x-python",
   "name": "python",
   "nbconvert_exporter": "python",
   "pygments_lexer": "ipython3",
   "version": "3.10.8"
  },
  "orig_nbformat": 4
 },
 "nbformat": 4,
 "nbformat_minor": 2
}
