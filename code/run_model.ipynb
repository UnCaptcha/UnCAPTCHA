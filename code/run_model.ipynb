{
 "cells": [
  {
   "cell_type": "code",
   "execution_count": 1,
   "metadata": {},
   "outputs": [
    {
     "name": "stderr",
     "output_type": "stream",
     "text": [
      "2023-05-02 00:10:47.138857: I tensorflow/core/platform/cpu_feature_guard.cc:193] This TensorFlow binary is optimized with oneAPI Deep Neural Network Library (oneDNN) to use the following CPU instructions in performance-critical operations:  AVX2 FMA\n",
      "To enable them in other operations, rebuild TensorFlow with the appropriate compiler flags.\n"
     ]
    }
   ],
   "source": [
    "from __future__ import absolute_import\n",
    "from matplotlib import pyplot as plt\n",
    "\n",
    "import os\n",
    "import tensorflow as tf\n",
    "import numpy as np\n",
    "import random\n",
    "import math\n",
    "from preprocess import get_data\n",
    "from sklearn import preprocessing\n",
    "from main import *"
   ]
  },
  {
   "cell_type": "code",
   "execution_count": 2,
   "metadata": {},
   "outputs": [
    {
     "name": "stderr",
     "output_type": "stream",
     "text": [
      "2023-05-02 00:11:13.459806: I tensorflow/core/platform/cpu_feature_guard.cc:193] This TensorFlow binary is optimized with oneAPI Deep Neural Network Library (oneDNN) to use the following CPU instructions in performance-critical operations:  AVX2 FMA\n",
      "To enable them in other operations, rebuild TensorFlow with the appropriate compiler flags.\n"
     ]
    },
    {
     "name": "stdout",
     "output_type": "stream",
     "text": [
      "(27872, 31)\n",
      "Epoch 1/3\n",
      "109/109 [==============================] - 29s 248ms/step - loss: 1.9290 - categorical_crossentropy: 1.9290 - val_loss: 1.8051 - val_categorical_crossentropy: 1.8051\n",
      "Epoch 2/3\n",
      "109/109 [==============================] - 33s 303ms/step - loss: 0.3839 - categorical_crossentropy: 0.3839 - val_loss: 0.5919 - val_categorical_crossentropy: 0.5919\n",
      "Epoch 3/3\n",
      "109/109 [==============================] - 30s 279ms/step - loss: 0.1633 - categorical_crossentropy: 0.1633 - val_loss: 0.2853 - val_categorical_crossentropy: 0.2853\n"
     ]
    },
    {
     "name": "stderr",
     "output_type": "stream",
     "text": [
      "WARNING:absl:Found untraced functions such as _update_step_xla, _jit_compiled_convolution_op, _jit_compiled_convolution_op, _jit_compiled_convolution_op while saving (showing 4 of 4). These functions will not be directly callable after loading.\n"
     ]
    },
    {
     "name": "stdout",
     "output_type": "stream",
     "text": [
      "INFO:tensorflow:Assets written to: ./../models/segmented/assets\n"
     ]
    },
    {
     "name": "stderr",
     "output_type": "stream",
     "text": [
      "INFO:tensorflow:Assets written to: ./../models/segmented/assets\n"
     ]
    }
   ],
   "source": [
    "#Import and reshape\n",
    "X_train, X_test, X_val, Y_train, Y_test, Y_val = get_data(.3, \"./../processed_data/\")\n",
    "\n",
    "char_encoder = preprocessing.LabelEncoder().fit(np.concatenate((Y_train.reshape(-1), Y_test.reshape(-1), Y_val.reshape(-1))))\n",
    "orig_shapes = [Y_train.shape[0], Y_test.shape[0], Y_val.shape[0]]\n",
    "Y_train = char_encoder.transform(Y_train.reshape(-1)).reshape((orig_shapes[0], 4))\n",
    "Y_test = char_encoder.transform(Y_test.reshape(-1)).reshape((orig_shapes[1], 4))\n",
    "Y_val = char_encoder.transform(Y_val.reshape(-1)).reshape((orig_shapes[2], 4))\n",
    "\n",
    "#Convert input to properly shaped and typed tensors\n",
    "X_train = tf.convert_to_tensor(np.asarray(np.reshape(X_train, (-1, *X_train.shape[-2:]))).astype(np.float32))\n",
    "X_val   = tf.convert_to_tensor(np.asarray(np.reshape(X_val  , (-1, *X_val.shape[-2:]))).astype(np.float32))\n",
    "Y_train = tf.convert_to_tensor(np.asarray(np.reshape(Y_train, (-1))))\n",
    "Y_val   = tf.convert_to_tensor(np.asarray(np.reshape(Y_val  , (-1))))\n",
    "\n",
    "#Don't reshape test, because we need to preserve CAPTCHAs but convert to tensor\n",
    "X_test  = tf.convert_to_tensor(np.asarray(X_test).astype(np.float32))\n",
    "Y_test  = tf.convert_to_tensor(np.asarray(Y_test))\n",
    "\n",
    "#Expand Dims\n",
    "X_train = tf.expand_dims(X_train, axis=-1)\n",
    "X_val   = tf.expand_dims(X_val  , axis=-1)\n",
    "\n",
    "#One hot encode\n",
    "Y_val   = tf.one_hot(Y_val  , depth=31, axis=-1)\n",
    "Y_train = tf.one_hot(Y_train, depth=31, axis=-1)\n",
    "\n",
    "\n",
    "model = Model()\n",
    "print(model(X_train).shape)\n",
    "model.compile(loss='categorical_crossentropy',\n",
    "                optimizer=tf.keras.optimizers.Adam(.0001),\n",
    "                metrics= [\n",
    "                tf.keras.metrics.CategoricalCrossentropy()\n",
    "                ])\n",
    "model.fit(\n",
    "    X_train,\n",
    "    Y_train,\n",
    "    epochs=3,\n",
    "    batch_size=256,\n",
    "    validation_data=(X_val, Y_val)\n",
    ")\n",
    "\n",
    "model.save('./../models/segmented_2')"
   ]
  },
  {
   "cell_type": "code",
   "execution_count": 15,
   "metadata": {},
   "outputs": [
    {
     "name": "stdout",
     "output_type": "stream",
     "text": [
      "Secret CAPTCHA:\n",
      "['7' 'X' 'R' 'M']\n",
      "Model guess:\n",
      "['7' 'X' 'R' 'M']\n",
      "Individual accuracy: 92.53% \n",
      "Captcha accuracy: 73.07%\n"
     ]
    }
   ],
   "source": [
    "def run_tests(X_test, Y_test):\n",
    "    X_test = np.reshape(X_test, (-1, *X_test.shape[-2:]))\n",
    "    Y_test = np.reshape(Y_test, (-1))\n",
    "    \n",
    "    probs = model.predict(X_test, verbose=0)\n",
    "    diff = np.argmax(probs, axis=1) - Y_test\n",
    "    accuracy = np.where(diff == 0, 1, 0)\n",
    "\n",
    "    group_acc = np.array_split(diff, diff.shape[0]//4)\n",
    "    group_acc = np.apply_along_axis((lambda x: 1 if np.all(x == 0) else 0), axis=1, arr=group_acc)\n",
    "\n",
    "    return np.mean(accuracy), np.mean(group_acc)\n",
    "    \n",
    "\n",
    "output = model.predict(X_test[7], verbose=0)\n",
    "\n",
    "print(\"Secret CAPTCHA:\")\n",
    "print(char_encoder.inverse_transform(Y_test[7]))\n",
    "\n",
    "print(\"Model guess:\")\n",
    "print(char_encoder.inverse_transform(np.argmax(output, axis=1)))\n",
    "\n",
    "\n",
    "indiv_acc, group_acc = run_tests(X_test, Y_test)\n",
    "print(f\"Individual accuracy: {round(100*indiv_acc, 2)}% \\nCaptcha accuracy: {round(100*group_acc, 2)}%\")\n"
   ]
  }
 ],
 "metadata": {
  "kernelspec": {
   "display_name": "Python 3",
   "language": "python",
   "name": "python3"
  },
  "language_info": {
   "codemirror_mode": {
    "name": "ipython",
    "version": 3
   },
   "file_extension": ".py",
   "mimetype": "text/x-python",
   "name": "python",
   "nbconvert_exporter": "python",
   "pygments_lexer": "ipython3",
   "version": "3.10.9"
  },
  "orig_nbformat": 4
 },
 "nbformat": 4,
 "nbformat_minor": 2
}
