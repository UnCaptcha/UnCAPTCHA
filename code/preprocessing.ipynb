{
 "cells": [
  {
   "cell_type": "code",
   "execution_count": 48,
   "metadata": {},
   "outputs": [],
   "source": [
    "import os\n",
    "import numpy as np\n",
    "import matplotlib.pyplot as plt\n",
    "import cv2\n",
    "from sklearn.model_selection import train_test_split\n",
    "\n",
    "data_path = \"./../data/\""
   ]
  },
  {
   "cell_type": "code",
   "execution_count": 49,
   "metadata": {},
   "outputs": [],
   "source": [
    "\n",
    "def segment_captcha():\n",
    "    for image_name in os.listdir(data_path):\n",
    "        img_path = data_path + image_name\n",
    "        img = cv2.imread(img_path)\n",
    "        _, thresholded = cv2.threshold(img, 240, 255, cv2.THRESH_BINARY_INV)\n",
    "        to_gray = cv2.cvtColor(thresholded, cv2.COLOR_BGR2GRAY)\n",
    "        ctrs, _ = cv2.findContours(to_gray, cv2.RETR_EXTERNAL, cv2.CHAIN_APPROX_SIMPLE)\n",
    "        ctrs = np.asarray(ctrs, dtype=object)\n",
    "        my_rects = np.asarray([cv2.boundingRect(ctr) for ctr in ctrs])\n",
    "\n",
    "        while len(my_rects) != 4:\n",
    "            big_ctr_ind = np.argmax(my_rects[:, 2])\n",
    "            big_ctr = my_rects[big_ctr_ind]\n",
    "            split_width = big_ctr[2]//2\n",
    "            sub_rect_one = np.asarray([big_ctr[0], big_ctr[1], split_width, 0])\n",
    "            sub_rect_two = np.asarray([big_ctr[0] + split_width, big_ctr[1], big_ctr[2] - split_width, 0])\n",
    "            my_rects = np.concatenate((my_rects[:big_ctr_ind], np.asarray([sub_rect_one, sub_rect_two]), my_rects[big_ctr_ind + 1:]))\n",
    "        \n",
    "        assert(len(my_rects) == 4)\n",
    "        my_rects = np.sort(my_rects, axis=0)\n",
    "        code = image_name.split(\".\")[0]\n",
    "        for i, rect in enumerate(my_rects):\n",
    "            new_image = to_gray[:,rect[0]-1:rect[0]+rect[2]+1] #Add one pixel of noise from original image\n",
    "            total_pad = 24 - new_image.shape[1]\n",
    "            left_pad  = total_pad // 2\n",
    "            right_pad = total_pad - left_pad\n",
    "            new_image = np.pad(new_image, pad_width=((0,0), (left_pad, right_pad)), mode=\"constant\")\n",
    "            cv2.imwrite(\"../processed_data/\" + code + \"_\" + str(i) + \"_\" + code[i] + \".png\", new_image)\n",
    "\n",
    "segment_captcha()\n"
   ]
  },
  {
   "cell_type": "code",
   "execution_count": 50,
   "metadata": {},
   "outputs": [],
   "source": [
    "#Train test split\n",
    "processed_data_path = \"./../processed_data/\"\n",
    "def get_data(test_split, processed_data_path):\n",
    "    images = []\n",
    "    labels = []\n",
    "    captcha = []\n",
    "    captcha_labels = []\n",
    "    count = 0\n",
    "    for image_path in sorted(os.listdir(processed_data_path)):\n",
    "        count += 1\n",
    "        image = cv2.imread(processed_data_path + image_path, cv2.IMREAD_GRAYSCALE)\n",
    "        \n",
    "        label = image_path.split('.')[0][-1]\n",
    "        captcha.append(image)\n",
    "        captcha_labels.append(label)\n",
    "\n",
    "        if count % 4 == 0:\n",
    "            images.append(captcha)\n",
    "            labels.append(captcha_labels) \n",
    "            captcha = []\n",
    "            captcha_labels = []\n",
    "\n",
    "    X_train, X_testval, Y_train, Y_testval = train_test_split(np.asarray(images, dtype=object), np.asarray(labels, dtype=object), test_size=test_split)\n",
    "    X_test, X_val, Y_test, Y_val = train_test_split(X_testval, Y_testval, test_size=0.5)\n",
    "    return X_train, X_test, X_val, Y_train, Y_test, Y_val\n",
    "\n",
    "X_train, X_test, X_val, Y_train, Y_test, Y_val = get_data(0.3, \"./../processed_data/\")\n",
    "print(Y_val)"
   ]
  },
  {
   "cell_type": "code",
   "execution_count": 51,
   "metadata": {},
   "outputs": [],
   "source": [
    "def binary_captcha():\n",
    "    for image_name in os.listdir(data_path):\n",
    "        img_path = data_path + image_name\n",
    "        img = cv2.imread(img_path)\n",
    "        _, thresholded = cv2.threshold(img, 240, 255, cv2.THRESH_BINARY_INV)\n",
    "        to_gray = cv2.cvtColor(thresholded, cv2.COLOR_BGR2GRAY)\n",
    "        \n",
    "        code = image_name.split(\".\")[0]\n",
    "        for i, letter in enumerate(code):\n",
    "            new_img = to_gray\n",
    "            if i > 0:\n",
    "                new_img = np.concatenate((np.ones((new_img.shape[0], i))*255, new_img), axis=1)\n",
    "            new_img = np.concatenate((np.zeros((new_img.shape[0], 1)), new_img), axis=1)\n",
    "            if i < 3:\n",
    "                new_img = np.concatenate((np.ones((new_img.shape[0], 3-i))*255, new_img), axis=1)\n",
    "            cv2.imwrite(\"../barcoded_data/\" + code + \"_\" + str(i) + \"_\" + letter + \".png\", new_img)\n",
    "\n",
    "\n",
    "binary_captcha()"
   ]
  }
 ],
 "metadata": {
  "kernelspec": {
   "display_name": "Python 3",
   "language": "python",
   "name": "python3"
  },
  "language_info": {
   "codemirror_mode": {
    "name": "ipython",
    "version": 3
   },
   "file_extension": ".py",
   "mimetype": "text/x-python",
   "name": "python",
   "nbconvert_exporter": "python",
   "pygments_lexer": "ipython3",
   "version": "3.10.8"
  },
  "orig_nbformat": 4
 },
 "nbformat": 4,
 "nbformat_minor": 2
}
