{
 "cells": [
  {
   "cell_type": "code",
   "execution_count": 2,
   "metadata": {},
   "outputs": [],
   "source": [
    "import os\n",
    "import numpy as np\n",
    "import cv2\n",
    "\n",
    "data_path = \"./../data/raw_data/\""
   ]
  },
  {
   "cell_type": "code",
   "execution_count": null,
   "metadata": {},
   "outputs": [],
   "source": [
    "#Run to segment regular black and white CAPTCHAs\n",
    "def segmentation_preprocess():\n",
    "    for image_name in os.listdir(data_path):\n",
    "        img_path = data_path + image_name\n",
    "        img = cv2.imread(img_path)\n",
    "        _, thresholded = cv2.threshold(img, 240, 255, cv2.THRESH_BINARY_INV)\n",
    "        to_gray = cv2.cvtColor(thresholded, cv2.COLOR_BGR2GRAY)\n",
    "        ctrs, _ = cv2.findContours(to_gray, cv2.RETR_EXTERNAL, cv2.CHAIN_APPROX_SIMPLE)\n",
    "        ctrs = np.asarray(ctrs, dtype=object)\n",
    "        my_rects = np.asarray([cv2.boundingRect(ctr) for ctr in ctrs])\n",
    "\n",
    "        while len(my_rects) != 4:\n",
    "            big_ctr_ind = np.argmax(my_rects[:, 2])\n",
    "            big_ctr = my_rects[big_ctr_ind]\n",
    "            split_width = big_ctr[2]//2\n",
    "            sub_rect_one = np.asarray([big_ctr[0], big_ctr[1], split_width, 0])\n",
    "            sub_rect_two = np.asarray([big_ctr[0] + split_width, big_ctr[1], big_ctr[2] - split_width, 0])\n",
    "            my_rects = np.concatenate((my_rects[:big_ctr_ind], np.asarray([sub_rect_one, sub_rect_two]), my_rects[big_ctr_ind + 1:]))\n",
    "        \n",
    "        assert(len(my_rects) == 4)\n",
    "        my_rects = np.sort(my_rects, axis=0)\n",
    "        code = image_name.split(\".\")[0]\n",
    "        for i, rect in enumerate(my_rects):\n",
    "            new_image = to_gray[:,rect[0]-1:rect[0]+rect[2]+1] #Add one pixel of noise from original image\n",
    "            total_pad = 24 - new_image.shape[1]\n",
    "            left_pad  = total_pad // 2\n",
    "            right_pad = total_pad - left_pad\n",
    "            new_image = np.pad(new_image, pad_width=((0,0), (left_pad, right_pad)), mode=\"constant\")\n",
    "            cv2.imwrite(\"../data/segmented_data/\" + code + \"_\" + str(i) + \"_\" + code[i] + \".png\", new_image)"
   ]
  },
  {
   "cell_type": "code",
   "execution_count": 2,
   "metadata": {},
   "outputs": [],
   "source": [
    "#Barcode the CAPTCHAs\n",
    "def barcode_preprocess():\n",
    "    for image_name in os.listdir(data_path):\n",
    "        img_path = data_path + image_name\n",
    "        img = cv2.imread(img_path)\n",
    "        _, thresholded = cv2.threshold(img, 240, 255, cv2.THRESH_BINARY_INV)\n",
    "        to_gray = cv2.cvtColor(thresholded, cv2.COLOR_BGR2GRAY)\n",
    "        \n",
    "        code = image_name.split(\".\")[0]\n",
    "        for i, letter in enumerate(code):\n",
    "            new_img = to_gray\n",
    "            if i > 0:\n",
    "                new_img = np.concatenate((np.ones((new_img.shape[0], i))*255, new_img), axis=1)\n",
    "                \n",
    "            new_img = np.concatenate((np.zeros((new_img.shape[0], 1)), new_img), axis=1)\n",
    "            if i < 3:\n",
    "                new_img = np.concatenate((np.ones((new_img.shape[0], 3-i))*255, new_img), axis=1)\n",
    "            cv2.imwrite(\"./../data/barcoded_data/\" + code + \"_\" + str(i) + \"_\" + letter + \".png\", new_img)"
   ]
  },
  {
   "cell_type": "code",
   "execution_count": null,
   "metadata": {},
   "outputs": [],
   "source": [
    "# Preprocess data for OCR\n",
    "def ocr_preprocess():\n",
    "    for image_name in os.listdir(data_path):\n",
    "        img_path = data_path + image_name\n",
    "        img = cv2.imread(img_path)\n",
    "        _, thresholded = cv2.threshold(img, 240, 255, cv2.THRESH_BINARY_INV)\n",
    "        to_gray = cv2.cvtColor(thresholded, cv2.COLOR_BGR2GRAY)\n",
    "        cv2.imwrite(\"../data/ocr_data/\" + image_name, to_gray)"
   ]
  }
 ],
 "metadata": {
  "kernelspec": {
   "display_name": "Python 3",
   "language": "python",
   "name": "python3"
  },
  "language_info": {
   "codemirror_mode": {
    "name": "ipython",
    "version": 3
   },
   "file_extension": ".py",
   "mimetype": "text/x-python",
   "name": "python",
   "nbconvert_exporter": "python",
   "pygments_lexer": "ipython3",
   "version": "3.10.8"
  },
  "orig_nbformat": 4
 },
 "nbformat": 4,
 "nbformat_minor": 2
}
