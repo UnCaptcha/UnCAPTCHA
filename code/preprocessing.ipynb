{
 "cells": [
  {
   "cell_type": "code",
   "execution_count": 65,
   "metadata": {},
   "outputs": [],
   "source": [
    "import os\n",
    "import numpy as np\n",
    "import matplotlib.pyplot as plt\n",
    "import cv2\n",
    "from sklearn.model_selection import train_test_split\n",
    "\n",
    "data_path = \"./../data_difficult/\""
   ]
  },
  {
   "cell_type": "code",
   "execution_count": null,
   "metadata": {},
   "outputs": [],
   "source": [
    "#Run to segment regular black and white CAPTCHAs\n",
    "def segment_captcha():\n",
    "    for image_name in os.listdir(data_path):\n",
    "        img_path = data_path + image_name\n",
    "        img = cv2.imread(img_path)\n",
    "        _, thresholded = cv2.threshold(img, 240, 255, cv2.THRESH_BINARY_INV)\n",
    "        to_gray = cv2.cvtColor(thresholded, cv2.COLOR_BGR2GRAY)\n",
    "        ctrs, _ = cv2.findContours(to_gray, cv2.RETR_EXTERNAL, cv2.CHAIN_APPROX_SIMPLE)\n",
    "        ctrs = np.asarray(ctrs, dtype=object)\n",
    "        my_rects = np.asarray([cv2.boundingRect(ctr) for ctr in ctrs])\n",
    "\n",
    "        while len(my_rects) != 4:\n",
    "            big_ctr_ind = np.argmax(my_rects[:, 2])\n",
    "            big_ctr = my_rects[big_ctr_ind]\n",
    "            split_width = big_ctr[2]//2\n",
    "            sub_rect_one = np.asarray([big_ctr[0], big_ctr[1], split_width, 0])\n",
    "            sub_rect_two = np.asarray([big_ctr[0] + split_width, big_ctr[1], big_ctr[2] - split_width, 0])\n",
    "            my_rects = np.concatenate((my_rects[:big_ctr_ind], np.asarray([sub_rect_one, sub_rect_two]), my_rects[big_ctr_ind + 1:]))\n",
    "        \n",
    "        assert(len(my_rects) == 4)\n",
    "        my_rects = np.sort(my_rects, axis=0)\n",
    "        code = image_name.split(\".\")[0]\n",
    "        for i, rect in enumerate(my_rects):\n",
    "            new_image = to_gray[:,rect[0]-1:rect[0]+rect[2]+1] #Add one pixel of noise from original image\n",
    "            total_pad = 24 - new_image.shape[1]\n",
    "            left_pad  = total_pad // 2\n",
    "            right_pad = total_pad - left_pad\n",
    "            new_image = np.pad(new_image, pad_width=((0,0), (left_pad, right_pad)), mode=\"constant\")\n",
    "            cv2.imwrite(\"../processed_data/\" + code + \"_\" + str(i) + \"_\" + code[i] + \".png\", new_image)\n",
    "\n",
    "segment_captcha()\n"
   ]
  },
  {
   "cell_type": "code",
   "execution_count": 72,
   "metadata": {},
   "outputs": [
    {
     "name": "stderr",
     "output_type": "stream",
     "text": [
      "libpng error: Read Error\n"
     ]
    },
    {
     "ename": "TypeError",
     "evalue": "'NoneType' object is not subscriptable",
     "output_type": "error",
     "traceback": [
      "\u001b[0;31m---------------------------------------------------------------------------\u001b[0m",
      "\u001b[0;31mTypeError\u001b[0m                                 Traceback (most recent call last)",
      "Cell \u001b[0;32mIn[72], line 19\u001b[0m\n\u001b[1;32m     16\u001b[0m         \u001b[39m#plt.imshow(new_image)\u001b[39;00m\n\u001b[1;32m     17\u001b[0m         cv2\u001b[39m.\u001b[39mimwrite(\u001b[39m\"\u001b[39m\u001b[39m./../processed_whole_data_difficult/\u001b[39m\u001b[39m\"\u001b[39m \u001b[39m+\u001b[39m image_name, new_image)\n\u001b[0;32m---> 19\u001b[0m preprocess_captcha()\n",
      "Cell \u001b[0;32mIn[72], line 9\u001b[0m, in \u001b[0;36mpreprocess_captcha\u001b[0;34m()\u001b[0m\n\u001b[1;32m      7\u001b[0m img_path \u001b[39m=\u001b[39m data_path \u001b[39m+\u001b[39m image_name\n\u001b[1;32m      8\u001b[0m img \u001b[39m=\u001b[39m cv2\u001b[39m.\u001b[39mimread(img_path)\n\u001b[0;32m----> 9\u001b[0m img \u001b[39m=\u001b[39m img[\u001b[39m50\u001b[39;49m:\u001b[39m200\u001b[39;49m, :]\n\u001b[1;32m     10\u001b[0m _, thresholded \u001b[39m=\u001b[39m cv2\u001b[39m.\u001b[39mthreshold(img, \u001b[39m240\u001b[39m, \u001b[39m255\u001b[39m, cv2\u001b[39m.\u001b[39mTHRESH_BINARY_INV)\n\u001b[1;32m     11\u001b[0m to_gray \u001b[39m=\u001b[39m cv2\u001b[39m.\u001b[39mcvtColor(thresholded, cv2\u001b[39m.\u001b[39mCOLOR_BGR2GRAY)\n",
      "\u001b[0;31mTypeError\u001b[0m: 'NoneType' object is not subscriptable"
     ]
    }
   ],
   "source": [
    "#Preprocess CAPTCHA\n",
    "#Run to segment regular black and white CAPTCHAs\n",
    "def preprocess_captcha():\n",
    "    for image_name in os.listdir(data_path):\n",
    "    #for i in range(1):\n",
    "        #img_path = data_path + \"0A1tM.png\"\n",
    "        img_path = data_path + image_name\n",
    "        img = cv2.imread(img_path)\n",
    "        img = img[50:200, :]\n",
    "        _, thresholded = cv2.threshold(img, 240, 255, cv2.THRESH_BINARY_INV)\n",
    "        to_gray = cv2.cvtColor(thresholded, cv2.COLOR_BGR2GRAY)\n",
    "        kernel = np.ones((5,5), np.uint8)\n",
    "        eroded = cv2.erode(to_gray, kernel, iterations=1)\n",
    "        dilated = cv2.dilate(eroded, kernel, iterations=1)\n",
    "        _, new_image = cv2.threshold(dilated, 240, 255, cv2.THRESH_BINARY)\n",
    "        #plt.imshow(new_image)\n",
    "        cv2.imwrite(\"./../processed_whole_data_difficult/\" + image_name, new_image)\n",
    "\n",
    "preprocess_captcha()\n"
   ]
  },
  {
   "cell_type": "code",
   "execution_count": null,
   "metadata": {},
   "outputs": [],
   "source": [
    "#Train test split\n",
    "processed_data_path = \"./../processed_data/\"\n",
    "def get_data(test_split, processed_data_path):\n",
    "    images = []\n",
    "    labels = []\n",
    "    captcha = []\n",
    "    captcha_labels = []\n",
    "    count = 0\n",
    "    for image_path in sorted(os.listdir(processed_data_path)):\n",
    "        count += 1\n",
    "        image = cv2.imread(processed_data_path + image_path, cv2.IMREAD_GRAYSCALE)\n",
    "        \n",
    "        label = image_path.split('.')[0][-1]\n",
    "        captcha.append(image)\n",
    "        captcha_labels.append(label)\n",
    "\n",
    "        if count % 4 == 0:\n",
    "            images.append(captcha)\n",
    "            labels.append(captcha_labels) \n",
    "            captcha = []\n",
    "            captcha_labels = []\n",
    "\n",
    "    X_train, X_testval, Y_train, Y_testval = train_test_split(np.asarray(images, dtype=object), np.asarray(labels, dtype=object), test_size=test_split)\n",
    "    X_test, X_val, Y_test, Y_val = train_test_split(X_testval, Y_testval, test_size=0.5)\n",
    "    return X_train, X_test, X_val, Y_train, Y_test, Y_val\n",
    "\n",
    "X_train, X_test, X_val, Y_train, Y_test, Y_val = get_data(0.3, \"./../processed_data/\")\n",
    "print(Y_val)"
   ]
  },
  {
   "cell_type": "code",
   "execution_count": 2,
   "metadata": {},
   "outputs": [],
   "source": [
    "#Barcode the CAPTCHAs\n",
    "def binary_captcha():\n",
    "    for image_name in os.listdir(data_path):\n",
    "        img_path = data_path + image_name\n",
    "        img = cv2.imread(img_path)\n",
    "        _, thresholded = cv2.threshold(img, 240, 255, cv2.THRESH_BINARY_INV)\n",
    "        to_gray = cv2.cvtColor(thresholded, cv2.COLOR_BGR2GRAY)\n",
    "        \n",
    "        code = image_name.split(\".\")[0]\n",
    "        for i, letter in enumerate(code):\n",
    "            new_img = to_gray\n",
    "            if i > 0:\n",
    "                new_img = np.concatenate((np.ones((new_img.shape[0], i))*255, new_img), axis=1)\n",
    "                \n",
    "            new_img = np.concatenate((np.zeros((new_img.shape[0], 1)), new_img), axis=1)\n",
    "            if i < 3:\n",
    "                new_img = np.concatenate((np.ones((new_img.shape[0], 3-i))*255, new_img), axis=1)\n",
    "            cv2.imwrite(\"../barcoded_data/\" + code + \"_\" + str(i) + \"_\" + letter + \".png\", new_img)\n",
    "\n",
    "\n",
    "binary_captcha()"
   ]
  },
  {
   "cell_type": "code",
   "execution_count": 38,
   "metadata": {},
   "outputs": [
    {
     "data": {
      "image/png": "[encoded data removed]",
      "text/plain": [
       "<Figure size 640x480 with 1 Axes>"
      ]
     },
     "metadata": {},
     "output_type": "display_data"
    }
   ],
   "source": [
    "#Barcode the CAPTCHAs\n",
    "\n",
    "data_difficult_path = \"./../data_difficult/\"\n",
    "def binary_captcha():\n",
    "    for image_name in [os.listdir(data_difficult_path)[10]]:\n",
    "    #for i in range(1):\n",
    "        img_path = data_difficult_path + image_name\n",
    "        img = cv2.imread(img_path)\n",
    "        _, thresholded = cv2.threshold(img, 240, 255, cv2.THRESH_BINARY_INV)\n",
    "        to_gray = cv2.cvtColor(thresholded, cv2.COLOR_BGR2GRAY)\n",
    "        kernel = np.ones((5,5), np.uint8)\n",
    "\n",
    "        # Apply erosion\n",
    "        eroded = cv2.erode(to_gray, kernel, iterations=1)\n",
    "\n",
    "        # Apply dilation\n",
    "        dilated = cv2.dilate(eroded, kernel, iterations=1)\n",
    "\n",
    "        #Scale down .5 in size (for space)\n",
    "        height, width = img.shape[:2]\n",
    "        new_height = int(height * .25)\n",
    "        new_width = int(width * .25)\n",
    "        resized_img = cv2.resize(dilated, (new_width, new_height), interpolation=cv2.INTER_AREA)\n",
    "        _, new_image = cv2.threshold(resized_img, 240, 255, cv2.THRESH_BINARY)\n",
    "        \n",
    "        code = image_name.split(\".\")[0]\n",
    "        for i, letter in enumerate(code):\n",
    "            new_img = new_image\n",
    "            if i > 0: #Put white space before letter we are denoting\n",
    "                new_img = np.concatenate((np.ones((new_img.shape[0], i))*255, new_img), axis=1)\n",
    "                \n",
    "            #Put black to indicate the letter we are looking for\n",
    "            new_img = np.concatenate((np.zeros((new_img.shape[0], 1)), new_img), axis=1)\n",
    "\n",
    "            if i < 4: #Put white space after letter we are denoting\n",
    "                new_img = np.concatenate((np.ones((new_img.shape[0], 4-i))*255, new_img), axis=1)\n",
    "            plt.imshow(new_img)\n",
    "            cv2.imwrite(\"../barcoded_data_difficult/\" + code + \"_\" + str(i) + \"_\" + letter + \".png\", new_img)\n",
    "\n",
    "\n",
    "binary_captcha()"
   ]
  }
 ],
 "metadata": {
  "kernelspec": {
   "display_name": "Python 3",
   "language": "python",
   "name": "python3"
  },
  "language_info": {
   "codemirror_mode": {
    "name": "ipython",
    "version": 3
   },
   "file_extension": ".py",
   "mimetype": "text/x-python",
   "name": "python",
   "nbconvert_exporter": "python",
   "pygments_lexer": "ipython3",
   "version": "3.10.8"
  },
  "orig_nbformat": 4
 },
 "nbformat": 4,
 "nbformat_minor": 2
}
